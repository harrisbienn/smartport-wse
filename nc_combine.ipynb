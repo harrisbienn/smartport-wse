{
 "cells": [
  {
   "cell_type": "code",
   "execution_count": 1,
   "metadata": {},
   "outputs": [],
   "source": [
    "import pandas as pd\n",
    "from datetime import datetime, date, timedelta\n",
    "import glob\n",
    "import os\n",
    "\n",
    "import netCDF4\n",
    "import xarray as xr\n",
    "import numpy as np\n"
   ]
  },
  {
   "cell_type": "code",
   "execution_count": 2,
   "metadata": {},
   "outputs": [],
   "source": [
    "start_time = '2021-05-25 00:00:00' # Modifiable\n",
    "start_day = pd.Timestamp(start_time).strftime('%Y-%m-%d')\n",
    "today = date.today()\n",
    "yesterday = today - timedelta(days = 1)\n",
    "now = datetime.now()\n",
    "#end_time = end_day = yesterday.strftime('%Y-%m-%d')\n",
    "end_time = end_day = '2021-09-01'\n",
    "directory = 'Z:\\\\wse\\\\test\\\\'\n",
    "\n",
    "merge_range = pd.date_range(start=start_time, end=end_time, freq='d')\n",
    "\n",
    "merge_list = []\n",
    "\n",
    "for i in merge_range:\n",
    "    merge_list.append('y' + i.strftime('%Y') + '_d' + i.strftime('%j'))\n",
    "\n",
    "lookup = {}\n",
    "for i in merge_list:\n",
    "    esc_set = directory + '*' + glob.escape(i) + '.nc'\n",
    "    lookup[i] = []\n",
    "    if (glob.glob(esc_set)) not in lookup.values():\n",
    "        lookup.update({i:(glob.glob(esc_set))})\n",
    "        "
   ]
  },
  {
   "cell_type": "code",
   "execution_count": 3,
   "metadata": {},
   "outputs": [],
   "source": []
  },
  {
   "cell_type": "code",
   "execution_count": 12,
   "metadata": {},
   "outputs": [
    {
     "ename": "OSError",
     "evalue": "no files to open",
     "output_type": "error",
     "traceback": [
      "\u001b[1;31m---------------------------------------------------------------------------\u001b[0m",
      "\u001b[1;31mOSError\u001b[0m                                   Traceback (most recent call last)",
      "\u001b[1;32mc:\\Users\\HBienn\\nc_combine.ipynb Cell 4\u001b[0m in \u001b[0;36m<cell line: 1>\u001b[1;34m()\u001b[0m\n\u001b[0;32m      <a href='vscode-notebook-cell:/c%3A/Users/HBienn/nc_combine.ipynb#W2sZmlsZQ%3D%3D?line=0'>1</a>\u001b[0m \u001b[39mfor\u001b[39;00m i \u001b[39min\u001b[39;00m merge_list:\n\u001b[1;32m----> <a href='vscode-notebook-cell:/c%3A/Users/HBienn/nc_combine.ipynb#W2sZmlsZQ%3D%3D?line=1'>2</a>\u001b[0m     ds \u001b[39m=\u001b[39m xr\u001b[39m.\u001b[39;49mopen_mfdataset(lookup[\u001b[39mstr\u001b[39;49m(i)], combine \u001b[39m=\u001b[39;49m \u001b[39m'\u001b[39;49m\u001b[39mby_coords\u001b[39;49m\u001b[39m'\u001b[39;49m)\n\u001b[0;32m      <a href='vscode-notebook-cell:/c%3A/Users/HBienn/nc_combine.ipynb#W2sZmlsZQ%3D%3D?line=2'>3</a>\u001b[0m     t \u001b[39m=\u001b[39m pd\u001b[39m.\u001b[39mto_datetime(pd\u001b[39m.\u001b[39mto_datetime(ds[\u001b[39m'\u001b[39m\u001b[39mtime\u001b[39m\u001b[39m'\u001b[39m]\u001b[39m.\u001b[39mvalues[\u001b[39m0\u001b[39m])\u001b[39m.\u001b[39mstrftime(\u001b[39m'\u001b[39m\u001b[39m%\u001b[39m\u001b[39mY-\u001b[39m\u001b[39m%\u001b[39m\u001b[39mm-\u001b[39m\u001b[39m%d\u001b[39;00m\u001b[39m'\u001b[39m))\n\u001b[0;32m      <a href='vscode-notebook-cell:/c%3A/Users/HBienn/nc_combine.ipynb#W2sZmlsZQ%3D%3D?line=3'>4</a>\u001b[0m     day \u001b[39m=\u001b[39m \u001b[39mint\u001b[39m(\u001b[39mround\u001b[39m(t\u001b[39m.\u001b[39mtimestamp())\u001b[39m*\u001b[39m\u001b[39m1000000000\u001b[39m)\n",
      "File \u001b[1;32mc:\\Users\\HBienn\\Anaconda3\\envs\\python310\\lib\\site-packages\\xarray\\backends\\api.py:873\u001b[0m, in \u001b[0;36mopen_mfdataset\u001b[1;34m(paths, chunks, concat_dim, compat, preprocess, engine, data_vars, coords, combine, parallel, join, attrs_file, combine_attrs, **kwargs)\u001b[0m\n\u001b[0;32m    870\u001b[0m     paths \u001b[39m=\u001b[39m [os\u001b[39m.\u001b[39mfspath(p) \u001b[39mif\u001b[39;00m \u001b[39misinstance\u001b[39m(p, os\u001b[39m.\u001b[39mPathLike) \u001b[39melse\u001b[39;00m p \u001b[39mfor\u001b[39;00m p \u001b[39min\u001b[39;00m paths]\n\u001b[0;32m    872\u001b[0m \u001b[39mif\u001b[39;00m \u001b[39mnot\u001b[39;00m paths:\n\u001b[1;32m--> 873\u001b[0m     \u001b[39mraise\u001b[39;00m \u001b[39mOSError\u001b[39;00m(\u001b[39m\"\u001b[39m\u001b[39mno files to open\u001b[39m\u001b[39m\"\u001b[39m)\n\u001b[0;32m    875\u001b[0m \u001b[39mif\u001b[39;00m combine \u001b[39m==\u001b[39m \u001b[39m\"\u001b[39m\u001b[39mnested\u001b[39m\u001b[39m\"\u001b[39m:\n\u001b[0;32m    876\u001b[0m     \u001b[39mif\u001b[39;00m \u001b[39misinstance\u001b[39m(concat_dim, (\u001b[39mstr\u001b[39m, DataArray)) \u001b[39mor\u001b[39;00m concat_dim \u001b[39mis\u001b[39;00m \u001b[39mNone\u001b[39;00m:\n",
      "\u001b[1;31mOSError\u001b[0m: no files to open"
     ]
    }
   ],
   "source": [
    "for i in merge_list:\n",
    "    ds = xr.open_mfdataset(lookup[str(i)], combine = 'by_coords')\n",
    "    t = pd.to_datetime(pd.to_datetime(ds['time'].values[0]).strftime('%Y-%m-%d'))\n",
    "    day = int(round(t.timestamp())*1000000000)\n",
    "    output_name = f'wse_500m_{day}_combine.nc'\n",
    "    ds.to_netcdf(directory + output_name)"
   ]
  },
  {
   "cell_type": "code",
   "execution_count": null,
   "metadata": {},
   "outputs": [],
   "source": []
  }
 ],
 "metadata": {
  "kernelspec": {
   "display_name": "Python 3.10.4 ('python310')",
   "language": "python",
   "name": "python3"
  },
  "language_info": {
   "codemirror_mode": {
    "name": "ipython",
    "version": 3
   },
   "file_extension": ".py",
   "mimetype": "text/x-python",
   "name": "python",
   "nbconvert_exporter": "python",
   "pygments_lexer": "ipython3",
   "version": "3.10.4"
  },
  "orig_nbformat": 4,
  "vscode": {
   "interpreter": {
    "hash": "46cbcb8dccb081b74e3c679f2e2bc233d33682670de62d81c0f1a14e2c6e6726"
   }
  }
 },
 "nbformat": 4,
 "nbformat_minor": 2
}
