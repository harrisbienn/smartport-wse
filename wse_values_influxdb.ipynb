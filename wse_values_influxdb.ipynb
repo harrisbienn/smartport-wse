{
 "cells": [
  {
   "cell_type": "markdown",
   "id": "683c2ba0",
   "metadata": {},
   "source": [
    "## Getting WSE source data using InfluxDB client"
   ]
  },
  {
   "cell_type": "code",
   "execution_count": 1,
   "id": "879552ee",
   "metadata": {},
   "outputs": [],
   "source": [
    "#Python version 3.8.10\n",
    "#Use pip install influxdb-client\n",
    "from datetime import datetime\n",
    "from influxdb_client import InfluxDBClient, Point, WritePrecision, WriteOptions\n",
    "from influxdb_client.client.write_api import SYNCHRONOUS\n",
    "import pandas as pd\n",
    "#Token to read riverGagesSubset bucket\n",
    "token = \"ZmsU7WoVdvs45GVB2jNeBzDwJFjza4ZfkQple4FaRqHq8sjxDPnP5kVWOFnVygjbQPY1H_SUcXCU4xX-rn692Q==\"\n",
    "org = \"TWI\"\n",
    "bucket = \"riverGagesSubset\""
   ]
  },
  {
   "cell_type": "code",
   "execution_count": 2,
   "id": "53dc4b53",
   "metadata": {},
   "outputs": [],
   "source": [
    "client=InfluxDBClient(url=\"http://10.3.10.19:8086\", token=token, org=org,debug=False,enable_gzip=True)\n",
    "query_api = client.query_api()"
   ]
  },
  {
   "cell_type": "code",
   "execution_count": 3,
   "id": "4c7248e8",
   "metadata": {},
   "outputs": [],
   "source": [
    "#Define the day you need the data\n",
    "#Remember the last avalaible data is yesterday at 23H\n",
    "day_query=\"2022-09-01\" #Keep this format as string"
   ]
  },
  {
   "cell_type": "markdown",
   "id": "b2c9af75",
   "metadata": {},
   "source": [
    "### Returning data as pandas dataframe"
   ]
  },
  {
   "cell_type": "code",
   "execution_count": 4,
   "id": "caf8ee2d",
   "metadata": {},
   "outputs": [],
   "source": [
    "#Avoid warning about pivot because in this is not necessary that kind of format\n",
    "import warnings\n",
    "from influxdb_client.client.warnings import MissingPivotFunction\n",
    "\n",
    "warnings.simplefilter(\"ignore\", MissingPivotFunction)"
   ]
  },
  {
   "cell_type": "code",
   "execution_count": 12,
   "id": "e70ee773",
   "metadata": {},
   "outputs": [],
   "source": [
    "query = f'''from(bucket: \"riverGagesSubset\")\n",
    "  |> range(start: {day_query}T00:00:00Z, stop: {day_query}T23:59:00Z)\n",
    "  |> filter(fn: (r) => r[\"_measurement\"] == \"Stage_Ft\")\n",
    "  |> aggregateWindow(every: 3h, fn: mean, createEmpty: false)\n",
    "  |> yield(name: \"mean\")'''"
   ]
  },
  {
   "cell_type": "code",
   "execution_count": 13,
   "id": "414202d9",
   "metadata": {},
   "outputs": [
    {
     "data": {
      "text/html": [
       "<div>\n",
       "<style scoped>\n",
       "    .dataframe tbody tr th:only-of-type {\n",
       "        vertical-align: middle;\n",
       "    }\n",
       "\n",
       "    .dataframe tbody tr th {\n",
       "        vertical-align: top;\n",
       "    }\n",
       "\n",
       "    .dataframe thead th {\n",
       "        text-align: right;\n",
       "    }\n",
       "</style>\n",
       "<table border=\"1\" class=\"dataframe\">\n",
       "  <thead>\n",
       "    <tr style=\"text-align: right;\">\n",
       "      <th></th>\n",
       "      <th>Datetime</th>\n",
       "      <th>mean_value_adjusted_mts</th>\n",
       "      <th>Latitude</th>\n",
       "      <th>Longitude</th>\n",
       "      <th>Station</th>\n",
       "      <th>river_mile</th>\n",
       "    </tr>\n",
       "  </thead>\n",
       "  <tbody>\n",
       "    <tr>\n",
       "      <th>0</th>\n",
       "      <td>2022-09-01 03:00:00+00:00</td>\n",
       "      <td>0.539496</td>\n",
       "      <td>28.93231</td>\n",
       "      <td>-89.4071</td>\n",
       "      <td>rg_01670</td>\n",
       "      <td>17.9</td>\n",
       "    </tr>\n",
       "    <tr>\n",
       "      <th>1</th>\n",
       "      <td>2022-09-01 06:00:00+00:00</td>\n",
       "      <td>0.579120</td>\n",
       "      <td>28.93231</td>\n",
       "      <td>-89.4071</td>\n",
       "      <td>rg_01670</td>\n",
       "      <td>17.9</td>\n",
       "    </tr>\n",
       "    <tr>\n",
       "      <th>2</th>\n",
       "      <td>2022-09-01 09:00:00+00:00</td>\n",
       "      <td>0.588264</td>\n",
       "      <td>28.93231</td>\n",
       "      <td>-89.4071</td>\n",
       "      <td>rg_01670</td>\n",
       "      <td>17.9</td>\n",
       "    </tr>\n",
       "    <tr>\n",
       "      <th>3</th>\n",
       "      <td>2022-09-01 12:00:00+00:00</td>\n",
       "      <td>0.508000</td>\n",
       "      <td>28.93231</td>\n",
       "      <td>-89.4071</td>\n",
       "      <td>rg_01670</td>\n",
       "      <td>17.9</td>\n",
       "    </tr>\n",
       "    <tr>\n",
       "      <th>4</th>\n",
       "      <td>2022-09-01 15:00:00+00:00</td>\n",
       "      <td>0.353568</td>\n",
       "      <td>28.93231</td>\n",
       "      <td>-89.4071</td>\n",
       "      <td>rg_01670</td>\n",
       "      <td>17.9</td>\n",
       "    </tr>\n",
       "    <tr>\n",
       "      <th>...</th>\n",
       "      <td>...</td>\n",
       "      <td>...</td>\n",
       "      <td>...</td>\n",
       "      <td>...</td>\n",
       "      <td>...</td>\n",
       "      <td>...</td>\n",
       "    </tr>\n",
       "    <tr>\n",
       "      <th>291</th>\n",
       "      <td>2022-09-01 12:00:00+00:00</td>\n",
       "      <td>95.873824</td>\n",
       "      <td>37.30415</td>\n",
       "      <td>-89.5175</td>\n",
       "      <td>rg_CE401278</td>\n",
       "      <td>52.1</td>\n",
       "    </tr>\n",
       "    <tr>\n",
       "      <th>292</th>\n",
       "      <td>2022-09-01 15:00:00+00:00</td>\n",
       "      <td>95.880936</td>\n",
       "      <td>37.30415</td>\n",
       "      <td>-89.5175</td>\n",
       "      <td>rg_CE401278</td>\n",
       "      <td>52.1</td>\n",
       "    </tr>\n",
       "    <tr>\n",
       "      <th>293</th>\n",
       "      <td>2022-09-01 18:00:00+00:00</td>\n",
       "      <td>95.879920</td>\n",
       "      <td>37.30415</td>\n",
       "      <td>-89.5175</td>\n",
       "      <td>rg_CE401278</td>\n",
       "      <td>52.1</td>\n",
       "    </tr>\n",
       "    <tr>\n",
       "      <th>294</th>\n",
       "      <td>2022-09-01 21:00:00+00:00</td>\n",
       "      <td>95.876872</td>\n",
       "      <td>37.30415</td>\n",
       "      <td>-89.5175</td>\n",
       "      <td>rg_CE401278</td>\n",
       "      <td>52.1</td>\n",
       "    </tr>\n",
       "    <tr>\n",
       "      <th>295</th>\n",
       "      <td>2022-09-01 23:59:00+00:00</td>\n",
       "      <td>95.886016</td>\n",
       "      <td>37.30415</td>\n",
       "      <td>-89.5175</td>\n",
       "      <td>rg_CE401278</td>\n",
       "      <td>52.1</td>\n",
       "    </tr>\n",
       "  </tbody>\n",
       "</table>\n",
       "<p>296 rows × 6 columns</p>\n",
       "</div>"
      ],
      "text/plain": [
       "                     Datetime  mean_value_adjusted_mts  Latitude Longitude  \\\n",
       "0   2022-09-01 03:00:00+00:00                 0.539496  28.93231  -89.4071   \n",
       "1   2022-09-01 06:00:00+00:00                 0.579120  28.93231  -89.4071   \n",
       "2   2022-09-01 09:00:00+00:00                 0.588264  28.93231  -89.4071   \n",
       "3   2022-09-01 12:00:00+00:00                 0.508000  28.93231  -89.4071   \n",
       "4   2022-09-01 15:00:00+00:00                 0.353568  28.93231  -89.4071   \n",
       "..                        ...                      ...       ...       ...   \n",
       "291 2022-09-01 12:00:00+00:00                95.873824  37.30415  -89.5175   \n",
       "292 2022-09-01 15:00:00+00:00                95.880936  37.30415  -89.5175   \n",
       "293 2022-09-01 18:00:00+00:00                95.879920  37.30415  -89.5175   \n",
       "294 2022-09-01 21:00:00+00:00                95.876872  37.30415  -89.5175   \n",
       "295 2022-09-01 23:59:00+00:00                95.886016  37.30415  -89.5175   \n",
       "\n",
       "         Station river_mile  \n",
       "0       rg_01670       17.9  \n",
       "1       rg_01670       17.9  \n",
       "2       rg_01670       17.9  \n",
       "3       rg_01670       17.9  \n",
       "4       rg_01670       17.9  \n",
       "..           ...        ...  \n",
       "291  rg_CE401278       52.1  \n",
       "292  rg_CE401278       52.1  \n",
       "293  rg_CE401278       52.1  \n",
       "294  rg_CE401278       52.1  \n",
       "295  rg_CE401278       52.1  \n",
       "\n",
       "[296 rows x 6 columns]"
      ]
     },
     "execution_count": 13,
     "metadata": {},
     "output_type": "execute_result"
    }
   ],
   "source": [
    "data_frame = query_api.query_data_frame(org=org, query=query)\n",
    "data_frame = data_frame.drop(columns=[\"_start\",\"result\",\"table\",\"_field\",\"_stop\",\"_measurement\"])\n",
    "data_frame = data_frame.rename(columns={\"_value\": \"mean_value_adjusted_mts\", \"_time\": \"Datetime\"})\n",
    "data_frame"
   ]
  }
 ],
 "metadata": {
  "kernelspec": {
   "display_name": "Python 3.10.1 64-bit",
   "language": "python",
   "name": "python3"
  },
  "language_info": {
   "codemirror_mode": {
    "name": "ipython",
    "version": 3
   },
   "file_extension": ".py",
   "mimetype": "text/x-python",
   "name": "python",
   "nbconvert_exporter": "python",
   "pygments_lexer": "ipython3",
   "version": "3.10.1"
  },
  "vscode": {
   "interpreter": {
    "hash": "1a5f7f34936d4d0e59d8cf10a0ece0f9673891745a4ca99ad3b7635b82ad064c"
   }
  }
 },
 "nbformat": 4,
 "nbformat_minor": 5
}
