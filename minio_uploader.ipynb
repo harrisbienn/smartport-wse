{
 "cells": [
  {
   "cell_type": "code",
   "execution_count": 5,
   "metadata": {},
   "outputs": [
    {
     "data": {
      "text/plain": [
       "False"
      ]
     },
     "execution_count": 5,
     "metadata": {},
     "output_type": "execute_result"
    }
   ],
   "source": [
    "from minio import Minio\n",
    "from dotenv import load_dotenv\n",
    "from pathlib import Path\n",
    "import os\n",
    "\n",
    "load_dotenv()"
   ]
  },
  {
   "cell_type": "code",
   "execution_count": 26,
   "metadata": {},
   "outputs": [],
   "source": [
    "local_path = str(os.path.join(Path.home(), \"Pictures\") + \"/fisk_plate_22_15_br_reduced.jpg\")\n",
    "aws_access = os.environ.get(\"AWS_ACCESS_KEY_ID\")\n",
    "aws_secret = os.environ.get(\"AWS_SECRET_ACCESS_KEY\")\n",
    "aws_region = os.environ.get()\n",
    "api_host = \"http://10.3.10.193:38888\"\n",
    "client = Minio(\"10.3.10.193:38888\", access_key=user, secret_key=pwd, secure=False)\n",
    "#client = Minio(\"atchafalaya.water.local:9000\", access_key=user, secret_key=pwd, secure=False) \n",
    "\n",
    "def main():\n",
    "    found = client.bucket_exists(\"smartport-storage/wse\")\n",
    "    if not found:\n",
    "       client.make_bucket(\"smartport-storage/wse\")\n",
    "    else:\n",
    "       print(\"Bucket already exists\")    \n",
    "              \n",
    "    client.fput_object(\"smartport-storage/wse\", \"<pic.jpg>\", local_path,)    \n",
    "    print(\"It is successfully uploaded to bucket\")"
   ]
  }
 ],
 "metadata": {
  "kernelspec": {
   "display_name": "Python 3.10.4 ('python310')",
   "language": "python",
   "name": "python3"
  },
  "language_info": {
   "codemirror_mode": {
    "name": "ipython",
    "version": 3
   },
   "file_extension": ".py",
   "mimetype": "text/x-python",
   "name": "python",
   "nbconvert_exporter": "python",
   "pygments_lexer": "ipython3",
   "version": "3.10.4"
  },
  "orig_nbformat": 4,
  "vscode": {
   "interpreter": {
    "hash": "46cbcb8dccb081b74e3c679f2e2bc233d33682670de62d81c0f1a14e2c6e6726"
   }
  }
 },
 "nbformat": 4,
 "nbformat_minor": 2
}
