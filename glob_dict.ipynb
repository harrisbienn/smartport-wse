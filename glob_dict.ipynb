{
 "cells": [
  {
   "cell_type": "code",
   "execution_count": 1,
   "metadata": {},
   "outputs": [],
   "source": [
    "import pandas as pd\n",
    "from datetime import datetime, date, timedelta\n",
    "import glob\n",
    "import os"
   ]
  },
  {
   "cell_type": "code",
   "execution_count": 2,
   "metadata": {},
   "outputs": [],
   "source": [
    "start_time = '2021-05-25 00:00:00' # Modifiable\n",
    "start_day = pd.Timestamp(start_time).strftime('%Y-%m-%d')\n",
    "today = date.today()\n",
    "yesterday = today - timedelta(days = 1)\n",
    "now = datetime.now()\n",
    "#end_time = end_day = yesterday.strftime('%Y-%m-%d')\n",
    "end_time = end_day = '2021-09-01'\n",
    "directory = 'Z:\\\\wse\\\\'\n",
    "\n",
    "merge_range = pd.date_range(start=start_time, end=end_time, freq='d')\n",
    "\n",
    "merge_list = []\n",
    "\n",
    "for i in merge_range:\n",
    "    merge_list.append('y' + i.strftime('%Y') + '_d' + i.strftime('%j'))\n",
    "\n"
   ]
  },
  {
   "cell_type": "code",
   "execution_count": 3,
   "metadata": {},
   "outputs": [],
   "source": [
    "lookup = {}\n",
    "for i in merge_list:\n",
    "    esc_set = directory + '*' + glob.escape(i) + '.nc'\n",
    "    lookup[i] = []\n",
    "    if (glob.glob(esc_set)) not in lookup.values():\n",
    "        lookup.update({i:(glob.glob(esc_set))})\n"
   ]
  }
 ],
 "metadata": {
  "kernelspec": {
   "display_name": "Python 3.10.4 ('python310')",
   "language": "python",
   "name": "python3"
  },
  "language_info": {
   "codemirror_mode": {
    "name": "ipython",
    "version": 3
   },
   "file_extension": ".py",
   "mimetype": "text/x-python",
   "name": "python",
   "nbconvert_exporter": "python",
   "pygments_lexer": "ipython3",
   "version": "3.10.4"
  },
  "orig_nbformat": 4,
  "vscode": {
   "interpreter": {
    "hash": "46cbcb8dccb081b74e3c679f2e2bc233d33682670de62d81c0f1a14e2c6e6726"
   }
  }
 },
 "nbformat": 4,
 "nbformat_minor": 2
}
