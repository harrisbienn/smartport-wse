{
 "cells": [
  {
   "cell_type": "code",
   "execution_count": 1,
   "metadata": {},
   "outputs": [
    {
     "data": {
      "text/plain": [
       "True"
      ]
     },
     "execution_count": 1,
     "metadata": {},
     "output_type": "execute_result"
    }
   ],
   "source": [
    "import boto3\n",
    "from pprint import pprint\n",
    "from pathlib import Path\n",
    "from dotenv import load_dotenv\n",
    "import os\n",
    "\n",
    "load_dotenv()"
   ]
  },
  {
   "cell_type": "code",
   "execution_count": 7,
   "metadata": {},
   "outputs": [],
   "source": [
    "def s3_upload_file(file_for_upload:str, object_name:str):\n",
    "    # To use default profile for session\n",
    "    s3 = boto3.resource('s3')\n",
    "    bucket_name = 'smartport-storage'\n",
    "    bucket_directory = 'wse/pipeline_test/'\n",
    "    object_key = bucket_directory + object_name\n",
    "    response = s3.meta.client.upload_file(file_for_upload, bucket_name, object_key)\n",
    "    pprint(response)  # prints None"
   ]
  },
  {
   "cell_type": "code",
   "execution_count": 8,
   "metadata": {},
   "outputs": [
    {
     "name": "stdout",
     "output_type": "stream",
     "text": [
      "None\n"
     ]
    }
   ],
   "source": [
    "s3_upload_file(\"C:/Users/HBienn/Pictures/fisk_plate_22_15_br_reduced.jpg\",\"test.jpg\")"
   ]
  },
  {
   "cell_type": "code",
   "execution_count": null,
   "metadata": {},
   "outputs": [],
   "source": [
    "def uploadDirectory(path,bucketname):\n",
    "        for root,dirs,files in os.walk(path):\n",
    "            for file in files:\n",
    "                s3.upload_file(os.path.join(root,file),bucketname,file)"
   ]
  }
 ],
 "metadata": {
  "kernelspec": {
   "display_name": "Python 3.10.4 ('python310')",
   "language": "python",
   "name": "python3"
  },
  "language_info": {
   "codemirror_mode": {
    "name": "ipython",
    "version": 3
   },
   "file_extension": ".py",
   "mimetype": "text/x-python",
   "name": "python",
   "nbconvert_exporter": "python",
   "pygments_lexer": "ipython3",
   "version": "3.10.4"
  },
  "orig_nbformat": 4,
  "vscode": {
   "interpreter": {
    "hash": "46cbcb8dccb081b74e3c679f2e2bc233d33682670de62d81c0f1a14e2c6e6726"
   }
  }
 },
 "nbformat": 4,
 "nbformat_minor": 2
}
